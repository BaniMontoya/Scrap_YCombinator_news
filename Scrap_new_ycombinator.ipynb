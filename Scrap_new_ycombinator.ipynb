{
  "nbformat": 4,
  "nbformat_minor": 0,
  "metadata": {
    "colab": {
      "name": "Scrap_new_ycombinator.ipynb",
      "provenance": [],
      "collapsed_sections": [],
      "authorship_tag": "ABX9TyPNTORe5/+98qjLzZJRFlyl",
      "include_colab_link": true
    },
    "kernelspec": {
      "name": "python3",
      "display_name": "Python 3"
    }
  },
  "cells": [
    {
      "cell_type": "markdown",
      "metadata": {
        "id": "view-in-github",
        "colab_type": "text"
      },
      "source": [
        "<a href=\"https://colab.research.google.com/github/BaniMontoya/Scrap_YCombinator_news/blob/master/Scrap_new_ycombinator.ipynb\" target=\"_parent\"><img src=\"https://colab.research.google.com/assets/colab-badge.svg\" alt=\"Open In Colab\"/></a>"
      ]
    },
    {
      "cell_type": "markdown",
      "metadata": {
        "id": "cRFCGpyPA1yj",
        "colab_type": "text"
      },
      "source": [
        "Scrap News of YCombinator and filtering by lenght of words\n",
        "Using the language that you feel most proficient in, you’ll have to create a web crawler using scraping techniques to extract the first 30 entries from https://news.ycombinator.com/ . You’ll only care about the title, a number of the order, the amount of comments and points for each entry.​\n",
        "\n",
        "From there, we want it to be able to perform a couple of filtering operations:\n",
        "\n",
        "+ Filter all previous entries with more than five words in the title ordered by the amount of comments first.\n",
        "+ Filter all previous entries with less than or equal to five words in the title ordered by points."
      ]
    },
    {
      "cell_type": "markdown",
      "metadata": {
        "id": "EQxPX9wyCyGP",
        "colab_type": "text"
      },
      "source": [
        "Bibligrafy:\n",
        "+ https://realpython.com/beautiful-soup-web-scraper-python/, using beatifoulSoup\n",
        "+ https://riptutorial.com/python/example/4510/,using-css-selectors-in-beautifulsoup, get elements by css selector\n",
        "+ https://srome.github.io/Parsing-HTML-Tables-in-Python-with-BeautifulSoup-and-pandas/, parse row of table\n",
        "+ https://medium.com/@kshitijvijay271199/flask-on-google-colab-f6525986797b, Serve Flask on Google Colab\n"
      ]
    },
    {
      "cell_type": "markdown",
      "metadata": {
        "id": "c8_kY3yKQrxF",
        "colab_type": "text"
      },
      "source": [
        "How to use\n",
        "+ Execute all Cells of NoteBook\n",
        "+ Acces Api resources by address URL (access the URL address on browser http://subdomain_generated.nrok.io/filter/1/ and http://subdomain_generated.nrok.io/filter/1/ to get news by filter.)\n"
      ]
    },
    {
      "cell_type": "code",
      "metadata": {
        "id": "sparY9vIAuNH",
        "colab_type": "code",
        "colab": {
          "base_uri": "https://localhost:8080/",
          "height": 381
        },
        "outputId": "0c9bac3a-3295-4836-d90d-460abb2bd3cb"
      },
      "source": [
        "!pip3 install requests\n",
        "!pip3 install beautifulsoup4\n",
        "!pip install flask-ngrok"
      ],
      "execution_count": 100,
      "outputs": [
        {
          "output_type": "stream",
          "text": [
            "Requirement already satisfied: requests in /usr/local/lib/python3.6/dist-packages (2.21.0)\n",
            "Requirement already satisfied: urllib3<1.25,>=1.21.1 in /usr/local/lib/python3.6/dist-packages (from requests) (1.24.3)\n",
            "Requirement already satisfied: idna<2.9,>=2.5 in /usr/local/lib/python3.6/dist-packages (from requests) (2.8)\n",
            "Requirement already satisfied: certifi>=2017.4.17 in /usr/local/lib/python3.6/dist-packages (from requests) (2020.4.5.1)\n",
            "Requirement already satisfied: chardet<3.1.0,>=3.0.2 in /usr/local/lib/python3.6/dist-packages (from requests) (3.0.4)\n",
            "Requirement already satisfied: beautifulsoup4 in /usr/local/lib/python3.6/dist-packages (4.6.3)\n",
            "Collecting flask-ngrok\n",
            "  Downloading https://files.pythonhosted.org/packages/af/6c/f54cb686ad1129e27d125d182f90f52b32f284e6c8df58c1bae54fa1adbc/flask_ngrok-0.0.25-py3-none-any.whl\n",
            "Requirement already satisfied: Flask>=0.8 in /usr/local/lib/python3.6/dist-packages (from flask-ngrok) (1.1.2)\n",
            "Requirement already satisfied: requests in /usr/local/lib/python3.6/dist-packages (from flask-ngrok) (2.21.0)\n",
            "Requirement already satisfied: itsdangerous>=0.24 in /usr/local/lib/python3.6/dist-packages (from Flask>=0.8->flask-ngrok) (1.1.0)\n",
            "Requirement already satisfied: click>=5.1 in /usr/local/lib/python3.6/dist-packages (from Flask>=0.8->flask-ngrok) (7.1.1)\n",
            "Requirement already satisfied: Jinja2>=2.10.1 in /usr/local/lib/python3.6/dist-packages (from Flask>=0.8->flask-ngrok) (2.11.2)\n",
            "Requirement already satisfied: Werkzeug>=0.15 in /usr/local/lib/python3.6/dist-packages (from Flask>=0.8->flask-ngrok) (1.0.1)\n",
            "Requirement already satisfied: certifi>=2017.4.17 in /usr/local/lib/python3.6/dist-packages (from requests->flask-ngrok) (2020.4.5.1)\n",
            "Requirement already satisfied: urllib3<1.25,>=1.21.1 in /usr/local/lib/python3.6/dist-packages (from requests->flask-ngrok) (1.24.3)\n",
            "Requirement already satisfied: chardet<3.1.0,>=3.0.2 in /usr/local/lib/python3.6/dist-packages (from requests->flask-ngrok) (3.0.4)\n",
            "Requirement already satisfied: idna<2.9,>=2.5 in /usr/local/lib/python3.6/dist-packages (from requests->flask-ngrok) (2.8)\n",
            "Requirement already satisfied: MarkupSafe>=0.23 in /usr/local/lib/python3.6/dist-packages (from Jinja2>=2.10.1->Flask>=0.8->flask-ngrok) (1.1.1)\n",
            "Installing collected packages: flask-ngrok\n",
            "Successfully installed flask-ngrok-0.0.25\n"
          ],
          "name": "stdout"
        }
      ]
    },
    {
      "cell_type": "code",
      "metadata": {
        "id": "uqptK36DC0YL",
        "colab_type": "code",
        "colab": {}
      },
      "source": [
        "# import libraries\n",
        "import requests\n",
        "from bs4 import BeautifulSoup"
      ],
      "execution_count": 0,
      "outputs": []
    },
    {
      "cell_type": "code",
      "metadata": {
        "id": "rCVkHhMpB5Hg",
        "colab_type": "code",
        "colab": {}
      },
      "source": [
        "# scrap website\n",
        "URL = 'https://news.ycombinator.com/'\n",
        "page = requests.get(URL)\n",
        "soup = BeautifulSoup(page.content, 'html.parser')\n",
        "#print(soup)\n",
        "print(soup.find_all('table')[2].find_all(\"tr\"))"
      ],
      "execution_count": 0,
      "outputs": []
    },
    {
      "cell_type": "code",
      "metadata": {
        "id": "OyDFY2ZfDCGu",
        "colab_type": "code",
        "colab": {}
      },
      "source": [
        "# construct news list\n",
        "news = []\n",
        "for item in soup.find_all('table')[2].find_all(\"tr\"):\n",
        "    news.append(item.get_text())"
      ],
      "execution_count": 0,
      "outputs": []
    },
    {
      "cell_type": "code",
      "metadata": {
        "id": "Gy35AT1dGhzO",
        "colab_type": "code",
        "colab": {}
      },
      "source": [
        "# contruct filters\n",
        "def get_news_by_filter(news, condition):\n",
        "    dict_news = []\n",
        "    if condition == 1:\n",
        "      for words in news:\n",
        "        count_words = len(words.split(\" \")) \n",
        "        if count_words >= 5 and count_words  > 1:\n",
        "          dict_news.append(words)\n",
        "    if condition == 2:\n",
        "      for words in news:\n",
        "        count_words = len(words.split(\" \")) \n",
        "        if count_words < 5 and count_words  > 1:\n",
        "          dict_news.append(words)\n",
        "    return dict_news"
      ],
      "execution_count": 0,
      "outputs": []
    },
    {
      "cell_type": "code",
      "metadata": {
        "id": "n77jnC99MF_d",
        "colab_type": "code",
        "colab": {
          "base_uri": "https://localhost:8080/",
          "height": 72
        },
        "outputId": "df7e2275-21d7-4f86-b496-03a7a21fd560"
      },
      "source": [
        "# get news by filter, use 1 to get news that title have equal or more than 5 words, use 2 for get news that have less than 5 words.\n",
        "# get_news_by_filter(news list, type of filter )\n",
        "print(get_news_by_filter(news,1))\n",
        "print(get_news_by_filter(news,2))"
      ],
      "execution_count": 108,
      "outputs": [
        {
          "output_type": "stream",
          "text": [
            "['\\n1. British Museum makes 1.9M images available for free (ianvisits.co.uk)', '\\n411 points by edward 9 hours ago  | hide | 98\\xa0comments ', '\\n2. With questionable copyright claim, Jay-Z orders deepfake parodies off YouTube (waxy.org)', '\\n278 points by minimaxir 7 hours ago  | hide | 131\\xa0comments ', '\\n3. Uber discusses plan to lay off about 20% of employees (theinformation.com)', '\\n236 points by ceohockey60 8 hours ago  | hide | 171\\xa0comments ', '\\n131 points by SudoAlex 5 hours ago  | hide | 38\\xa0comments ', '\\n5. The Anti-Amazon Alliance (stratechery.com)', '\\n567 points by kaboro 13 hours ago  | hide | 345\\xa0comments ', '\\n245 points by willscott 8 hours ago  | hide | 55\\xa0comments ', '\\n7. Some school districts plan to end the year early, call remote learning too tough (wsj.com)', '\\n142 points by itronitron 7 hours ago  | hide | 148\\xa0comments ', '\\n8. Inside of a Tractor Cab [video] (youtube.com)', '\\n195 points by jedberg 8 hours ago  | hide | 80\\xa0comments ', '\\n9. Some overwhelmed parents are abandoning at-home schooling (theglobeandmail.com)', '\\n235 points by finphil 9 hours ago  | hide | 362\\xa0comments ', '\\n10. Having trouble with the IRS site? Try all caps (latimes.com)', '\\n19 points by quickthrower2 2 hours ago  | hide | 6\\xa0comments ', '\\n11. We Need DevOps for ML Data (tecton.ai)', '\\n138 points by amargvela 8 hours ago  | hide | 75\\xa0comments ', '\\n12. Airport Stuffed with Airliners (thedrive.com)', '\\n101 points by vinnyglennon 7 hours ago  | hide | 50\\xa0comments ', '\\n13. Internet Explorer Is Evil (2002) (toastytech.com)', '\\n61 points by kn0where 5 hours ago  | hide | 34\\xa0comments ', '\\n14. MsQuic – QUIC Implementation from Microsoft (github.com)', '\\n32 points by mjsabby 3 hours ago  | hide | 7\\xa0comments ', '\\n15. Software Is Polluting the World (kentdebruin.com)', '\\n37 points by meagher 5 hours ago  | hide | 24\\xa0comments ', '\\n16. Would You Have Fallen for This Phone Scam? (krebsonsecurity.com)', '\\n77 points by todsacerdoti 7 hours ago  | hide | 30\\xa0comments ', '\\n17. How we use Rust in our mobile SDK (fullstory.com)', '\\n173 points by nfriedly 11 hours ago  | hide | 55\\xa0comments ', '\\n18. What’s in that .wasm? Introducing wasm-decompile (v8.dev)', '\\n219 points by slow-typer 15 hours ago  | hide | 52\\xa0comments ', \"\\n19. Proving that C++'s grammar is undecidable (medium.com)\", '\\n45 points by vitaut 6 hours ago  | hide | 32\\xa0comments ', '\\n20. Mistakes, we’ve drawn a few (2019) (economist.com)', '\\n32 points by davidbarker 5 hours ago  | hide | 6\\xa0comments ', '\\n21. Guide to Making 3D Maps with Satellite Imagery in R (tylermw.com)', '\\n210 points by tylermw 14 hours ago  | hide | 28\\xa0comments ', '\\n22. Extremely Large Telescope (projectescape.eu)', '\\n73 points by bryanrasmussen 9 hours ago  | hide | 46\\xa0comments ', '\\n23. Show HN: Liftbridge – Lightweight, fault-tolerant message streams (liftbridge.io)', '\\n92 points by tylertreat 9 hours ago  | hide | 15\\xa0comments ', '\\n24. Lessons Learned from Dealing with an iMac’s Dead SSD (tidbits.com)', '\\n30 points by yhoiseth 6 hours ago  | hide | 36\\xa0comments ', '\\n25. YouTube removed a viral video of two doctors calling for an end to quarantine (theblaze.com)', '\\n199 points by s9w 11 hours ago  | hide | 378\\xa0comments ', '\\n26. Facebook and the Silent Bob Effect (2019) (battlepenguin.com)', '\\n40 points by djsumdog 7 hours ago  | hide | 14\\xa0comments ', '\\n27. Zoom taps Oracle for cloud deal, passing over Amazon, Microsoft (cnbc.com)', '\\n166 points by SREinSF 8 hours ago  | hide | 195\\xa0comments ', '\\n28. Show HN: Add license key verification to your apps (github.com)', '\\n96 points by frknsn 10 hours ago  | hide | 74\\xa0comments ', '\\n29. Astroquery: A package that contains tools to access online astronomical data (github.com)', '\\n112 points by bryanrasmussen 14 hours ago  | hide | 5\\xa0comments ', '\\n30. “Baking” damaged reel-to-reel tapes renders them playable again (arstechnica.com)', '\\n50 points by pwg 9 hours ago  | hide | 55\\xa0comments ']\n",
            "['\\n4. DigitalOcean VPC (digitalocean.com)', '\\n6. IPFS 0.5 (ipfs.io)']\n"
          ],
          "name": "stdout"
        }
      ]
    },
    {
      "cell_type": "code",
      "metadata": {
        "id": "AxNv5wj0NN6j",
        "colab_type": "code",
        "colab": {
          "base_uri": "https://localhost:8080/",
          "height": 242
        },
        "outputId": "95621367-19eb-473a-d76c-50985bde7b02"
      },
      "source": [
        "from flask_ngrok import run_with_ngrok\n",
        "from flask import Flask\n",
        "import json\n",
        "app = Flask(__name__)\n",
        "run_with_ngrok(app)\n",
        "@app.route(\"/filter/<filter>/\")\n",
        "def get_news_by_api(filter):\n",
        "    return json.dumps(get_news_by_filter(news,int(filter)))\n",
        "  \n",
        "app.run()\n",
        "\n"
      ],
      "execution_count": 0,
      "outputs": [
        {
          "output_type": "stream",
          "text": [
            " * Serving Flask app \"__main__\" (lazy loading)\n",
            " * Environment: production\n",
            "\u001b[31m   WARNING: This is a development server. Do not use it in a production deployment.\u001b[0m\n",
            "\u001b[2m   Use a production WSGI server instead.\u001b[0m\n",
            " * Debug mode: off\n"
          ],
          "name": "stdout"
        },
        {
          "output_type": "stream",
          "text": [
            " * Running on http://127.0.0.1:5000/ (Press CTRL+C to quit)\n"
          ],
          "name": "stderr"
        },
        {
          "output_type": "stream",
          "text": [
            " * Running on http://8a6f1eaa.ngrok.io\n",
            " * Traffic stats available on http://127.0.0.1:4040\n"
          ],
          "name": "stdout"
        },
        {
          "output_type": "stream",
          "text": [
            "127.0.0.1 - - [29/Apr/2020 04:45:08] \"\u001b[33mGET / HTTP/1.1\u001b[0m\" 404 -\n",
            "127.0.0.1 - - [29/Apr/2020 04:45:12] \"\u001b[37mGET /filter/1/ HTTP/1.1\u001b[0m\" 200 -\n",
            "127.0.0.1 - - [29/Apr/2020 04:45:22] \"\u001b[33mGET /favicon.ico HTTP/1.1\u001b[0m\" 404 -\n",
            "127.0.0.1 - - [29/Apr/2020 04:45:26] \"\u001b[37mGET /filter/2/ HTTP/1.1\u001b[0m\" 200 -\n",
            "127.0.0.1 - - [29/Apr/2020 04:45:32] \"\u001b[37mGET /filter/1/ HTTP/1.1\u001b[0m\" 200 -\n"
          ],
          "name": "stderr"
        }
      ]
    }
  ]
}